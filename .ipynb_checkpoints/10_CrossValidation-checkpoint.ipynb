{
 "cells": [
  {
   "cell_type": "markdown",
   "id": "b59185d1",
   "metadata": {},
   "source": [
    "# Cross Validation"
   ]
  },
  {
   "cell_type": "code",
   "execution_count": 1,
   "id": "e619ff18",
   "metadata": {},
   "outputs": [],
   "source": [
    "#Lets first import our libraries\n",
    "import pandas as pd\n",
    "import numpy as np\n",
    "import matplotlib.pyplot as plt"
   ]
  },
  {
   "cell_type": "code",
   "execution_count": 2,
   "id": "7c773b46",
   "metadata": {},
   "outputs": [
    {
     "name": "stdout",
     "output_type": "stream",
     "text": [
      "The set of values of accuracy for each fold is\n",
      "  [0.61403509 0.61403509 0.63157895 0.63157895 0.63157895 0.63157895\n",
      " 0.63157895 0.63157895 0.63157895 0.625     ]\n",
      "The set of values of accuracy for each fold is\n",
      "  0.6274122807017544\n"
     ]
    }
   ],
   "source": [
    "#Lets first load our dataset.\n",
    "from sklearn.datasets import load_breast_cancer\n",
    "cancer=load_breast_cancer()\n",
    "#Lets prepare our dataframe\n",
    "dataset=pd.DataFrame(cancer[\"data\"],columns=cancer[\"feature_names\"])\n",
    "dataset[\"Cancer Type\"]=cancer[\"target\"]\n",
    "#Lets work on features and targets\n",
    "inputfeatures=dataset[cancer[\"feature_names\"]]\n",
    "outputTargets=dataset[\"Cancer Type\"]\n",
    "#Lets get our model\n",
    "from sklearn.svm import SVC\n",
    "rbf_SVM=SVC(kernel=\"rbf\",C=1.0,gamma=1.0)\n",
    "#Lets cross validate\n",
    "from sklearn.model_selection import cross_val_score\n",
    "cv_score=cross_val_score(rbf_SVM,inputfeatures,outputTargets,cv=10)\n",
    "print(\"The set of values of accuracy for each fold is\\n \",cv_score)\n",
    "print(\"The set of values of accuracy for each fold is\\n \",np.average(cv_score))"
   ]
  }
 ],
 "metadata": {
  "kernelspec": {
   "display_name": "Python 3 (ipykernel)",
   "language": "python",
   "name": "python3"
  },
  "language_info": {
   "codemirror_mode": {
    "name": "ipython",
    "version": 3
   },
   "file_extension": ".py",
   "mimetype": "text/x-python",
   "name": "python",
   "nbconvert_exporter": "python",
   "pygments_lexer": "ipython3",
   "version": "3.9.13"
  }
 },
 "nbformat": 4,
 "nbformat_minor": 5
}
