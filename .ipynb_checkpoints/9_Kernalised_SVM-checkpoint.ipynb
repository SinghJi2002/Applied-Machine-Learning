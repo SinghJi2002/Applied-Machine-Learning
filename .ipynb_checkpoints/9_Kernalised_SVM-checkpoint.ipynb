{
 "cells": [
  {
   "cell_type": "markdown",
   "id": "36e57112",
   "metadata": {},
   "source": [
    "# Kernalised Support Vector Machines"
   ]
  },
  {
   "cell_type": "code",
   "execution_count": 1,
   "id": "b80cae4a",
   "metadata": {},
   "outputs": [],
   "source": [
    "#Again lets import our basic libraries which we really require here.\n",
    "import pandas as pd\n",
    "import numpy as np"
   ]
  },
  {
   "cell_type": "code",
   "execution_count": 2,
   "id": "9f0b0303",
   "metadata": {},
   "outputs": [],
   "source": [
    "#Now lets set up our dataset. Lets look onto the cancer dataset.\n",
    "\n",
    "#We are just loading our dataframe\n",
    "from sklearn.datasets import load_breast_cancer\n",
    "dataset=load_breast_cancer()\n",
    "#Converting our dataset into dataframe\n",
    "dataframeCancer=pd.DataFrame(dataset[\"data\"],columns=dataset[\"feature_names\"])\n",
    "dataframeCancer[\"Classification\"]=dataset[\"target\"]\n",
    "#Preparing test and training datasets\n",
    "from sklearn.model_selection import train_test_split\n",
    "inputFeatures=dataframeCancer[dataset['feature_names']]\n",
    "outputlabel=dataframeCancer[\"Classification\"]\n",
    "x_test,x_train,y_test,y_train=train_test_split(inputFeatures,outputlabel,random_state=0)\n",
    "#Lets apply normalisation on our dataset\n",
    "from sklearn.preprocessing import MinMaxScaler\n",
    "scalarObject=MinMaxScaler()\n",
    "scaled_testSet=scalarObject.fit_transform(x_test)\n",
    "scaled_trainingSet=scalarObject.transform(x_train)"
   ]
  },
  {
   "cell_type": "code",
   "execution_count": 5,
   "id": "e41b7c07",
   "metadata": {},
   "outputs": [
    {
     "name": "stdout",
     "output_type": "stream",
     "text": [
      "The accuracy of model for training set is  0.9790209790209791\n",
      "The accuracy of model for test set is  0.9694835680751174\n"
     ]
    }
   ],
   "source": [
    "#lets make our ML model\n",
    "from sklearn.svm import SVC\n",
    "rbf_SVM=SVC(kernel=\"rbf\",C=1.0,gamma=1.0)\n",
    "rbf_SVM.fit(scaled_trainingSet,y_train)\n",
    "print(\"The accuracy of model for training set is \",rbf_SVM.score(scaled_trainingSet,y_train))\n",
    "print(\"The accuracy of model for test set is \",rbf_SVM.score(scaled_testSet,y_test))"
   ]
  }
 ],
 "metadata": {
  "kernelspec": {
   "display_name": "Python 3 (ipykernel)",
   "language": "python",
   "name": "python3"
  },
  "language_info": {
   "codemirror_mode": {
    "name": "ipython",
    "version": 3
   },
   "file_extension": ".py",
   "mimetype": "text/x-python",
   "name": "python",
   "nbconvert_exporter": "python",
   "pygments_lexer": "ipython3",
   "version": "3.9.13"
  }
 },
 "nbformat": 4,
 "nbformat_minor": 5
}
