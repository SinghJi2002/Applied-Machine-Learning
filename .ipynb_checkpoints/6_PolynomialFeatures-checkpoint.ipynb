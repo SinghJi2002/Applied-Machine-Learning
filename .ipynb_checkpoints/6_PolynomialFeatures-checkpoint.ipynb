{
 "cells": [
  {
   "cell_type": "markdown",
   "id": "b41a2001",
   "metadata": {},
   "source": [
    "# Polynomial Regression"
   ]
  },
  {
   "cell_type": "code",
   "execution_count": 1,
   "id": "59f10e26",
   "metadata": {},
   "outputs": [],
   "source": [
    "#Lets import all the major libraries\n",
    "import pandas as pd\n",
    "import numpy as np"
   ]
  },
  {
   "cell_type": "code",
   "execution_count": 2,
   "id": "5b1f8415",
   "metadata": {},
   "outputs": [
    {
     "name": "stderr",
     "output_type": "stream",
     "text": [
      "C:\\Users\\ashut\\anaconda3\\lib\\site-packages\\sklearn\\utils\\deprecation.py:87: FutureWarning: Function load_boston is deprecated; `load_boston` is deprecated in 1.0 and will be removed in 1.2.\n",
      "\n",
      "    The Boston housing prices dataset has an ethical problem. You can refer to\n",
      "    the documentation of this function for further details.\n",
      "\n",
      "    The scikit-learn maintainers therefore strongly discourage the use of this\n",
      "    dataset unless the purpose of the code is to study and educate about\n",
      "    ethical issues in data science and machine learning.\n",
      "\n",
      "    In this special case, you can fetch the dataset from the original\n",
      "    source::\n",
      "\n",
      "        import pandas as pd\n",
      "        import numpy as np\n",
      "\n",
      "\n",
      "        data_url = \"http://lib.stat.cmu.edu/datasets/boston\"\n",
      "        raw_df = pd.read_csv(data_url, sep=\"\\s+\", skiprows=22, header=None)\n",
      "        data = np.hstack([raw_df.values[::2, :], raw_df.values[1::2, :2]])\n",
      "        target = raw_df.values[1::2, 2]\n",
      "\n",
      "    Alternative datasets include the California housing dataset (i.e.\n",
      "    :func:`~sklearn.datasets.fetch_california_housing`) and the Ames housing\n",
      "    dataset. You can load the datasets as follows::\n",
      "\n",
      "        from sklearn.datasets import fetch_california_housing\n",
      "        housing = fetch_california_housing()\n",
      "\n",
      "    for the California housing dataset and::\n",
      "\n",
      "        from sklearn.datasets import fetch_openml\n",
      "        housing = fetch_openml(name=\"house_prices\", as_frame=True)\n",
      "\n",
      "    for the Ames housing dataset.\n",
      "    \n",
      "  warnings.warn(msg, category=FutureWarning)\n"
     ]
    }
   ],
   "source": [
    "#Lets prepare our datasets.\n",
    "from sklearn.datasets import load_boston\n",
    "boston=load_boston()\n",
    "Dataframe=pd.DataFrame(boston[\"data\"],columns=boston[\"feature_names\"])\n",
    "Dataframe[\"Target\"]=boston[\"target\"]\n",
    "\n",
    "#Lets now prepare the input features and output labels\n",
    "Dataframe_inputFeatures=Dataframe[boston[\"feature_names\"]]\n",
    "Dataframe_labels=boston[\"target\"]\n",
    "\n",
    "#Lets form the training and test datasets \n",
    "from sklearn.model_selection import train_test_split\n",
    "x_train,x_test,y_train,y_test=train_test_split(Dataframe_inputFeatures,Dataframe_labels,random_state=0)\n",
    "\n",
    "#Lets apply normalization\n",
    "from sklearn.preprocessing import MinMaxScaler\n",
    "scalingObject=MinMaxScaler()\n",
    "x_train_scaled=scalingObject.fit_transform(x_train)\n",
    "x_test_scaled=scalingObject.transform(x_test)"
   ]
  },
  {
   "cell_type": "code",
   "execution_count": 3,
   "id": "823eccf5",
   "metadata": {},
   "outputs": [
    {
     "name": "stdout",
     "output_type": "stream",
     "text": [
      "The accuracy of the model is  0.6354638433202126\n",
      "The accuracy of the model is  0.5515683952962009\n",
      "The accuracy of the model is  0.7497895316678647\n"
     ]
    }
   ],
   "source": [
    "#Lets apply machine learning model. Here we are going to apply 3 models, normal regression and ridge regression. On normal \n",
    "#regression models, we will apply it in two ways, one, without polynomial features, one with polynomial features and then \n",
    "#polynomial features applied to regularised models, lets say ridge.\n",
    "#Case 1 Testing\n",
    "from sklearn.linear_model import LinearRegression\n",
    "linearModel=LinearRegression()\n",
    "linearModel.fit(x_train_scaled,y_train)\n",
    "print(\"The accuracy of the model is \",linearModel.score(x_test_scaled,y_test))\n",
    "\n",
    "#Case 2 Testing\n",
    "from sklearn.preprocessing import PolynomialFeatures\n",
    "polyFeature=PolynomialFeatures(degree=2)\n",
    "x_poly=polyFeature.fit_transform(Dataframe_inputFeatures)\n",
    "x_train,x_test,y_train,y_test=train_test_split(x_poly,Dataframe_labels,random_state=0)\n",
    "linearModel2=LinearRegression()\n",
    "linearModel2.fit(x_train,y_train)\n",
    "print(\"The accuracy of the model is \",linearModel2.score(x_test,y_test))\n",
    "\n",
    "#Case 3 Testing\n",
    "from sklearn.linear_model import Ridge\n",
    "ridgeModel=Ridge(alpha=500)\n",
    "ridgeModel.fit(x_train,y_train)\n",
    "print(\"The accuracy of the model is \",ridgeModel.score(x_test,y_test))"
   ]
  }
 ],
 "metadata": {
  "kernelspec": {
   "display_name": "Python 3 (ipykernel)",
   "language": "python",
   "name": "python3"
  },
  "language_info": {
   "codemirror_mode": {
    "name": "ipython",
    "version": 3
   },
   "file_extension": ".py",
   "mimetype": "text/x-python",
   "name": "python",
   "nbconvert_exporter": "python",
   "pygments_lexer": "ipython3",
   "version": "3.9.13"
  }
 },
 "nbformat": 4,
 "nbformat_minor": 5
}
