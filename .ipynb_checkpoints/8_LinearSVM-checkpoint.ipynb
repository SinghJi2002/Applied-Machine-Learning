{
 "cells": [
  {
   "cell_type": "markdown",
   "id": "1504b01f",
   "metadata": {},
   "source": [
    "# Linear Support Vector Machine"
   ]
  },
  {
   "cell_type": "code",
   "execution_count": 1,
   "id": "8ef729ba",
   "metadata": {},
   "outputs": [],
   "source": [
    "#Again lets import our basic libraries which we really require here.\n",
    "import pandas as pd\n",
    "import numpy as np"
   ]
  },
  {
   "cell_type": "code",
   "execution_count": 2,
   "id": "fa657d5c",
   "metadata": {},
   "outputs": [],
   "source": [
    "#Now lets set up our dataset. Lets look onto the cancer dataset.\n",
    "\n",
    "#We are just loading our dataframe\n",
    "from sklearn.datasets import load_breast_cancer\n",
    "dataset=load_breast_cancer()\n",
    "#Converting our dataset into dataframe\n",
    "dataframeCancer=pd.DataFrame(dataset[\"data\"],columns=dataset[\"feature_names\"])\n",
    "dataframeCancer[\"Classification\"]=dataset[\"target\"]\n",
    "#Preparing test and training datasets\n",
    "from sklearn.model_selection import train_test_split\n",
    "inputFeatures=dataframeCancer[dataset['feature_names']]\n",
    "outputlabel=dataframeCancer[\"Classification\"]\n",
    "x_test,x_train,y_test,y_train=train_test_split(inputFeatures,outputlabel,random_state=0)\n",
    "#Lets apply normalisation on our dataset\n",
    "from sklearn.preprocessing import MinMaxScaler\n",
    "scalarObject=MinMaxScaler()\n",
    "scaled_testSet=scalarObject.fit_transform(x_test)\n",
    "scaled_trainingSet=scalarObject.transform(x_train)"
   ]
  },
  {
   "cell_type": "code",
   "execution_count": 6,
   "id": "42d87df4",
   "metadata": {},
   "outputs": [
    {
     "name": "stdout",
     "output_type": "stream",
     "text": [
      "The accuracy of model for training set is  0.9790209790209791\n",
      "The accuracy of model for test set is  0.9694835680751174\n",
      "The linear Coefficients applied are as follows  [[-1.01363695 -0.99934042 -0.98906178 -0.90721537 -0.16228814  0.02362374\n",
      "  -1.12008526 -1.31179062  0.09368665  0.61925526 -0.45223918  0.07537023\n",
      "  -0.2937903  -0.38399764 -0.499934    0.42101332 -0.04320062 -0.11310705\n",
      "   0.28180082  0.2846911  -1.39016408 -1.45216312 -1.24274903 -1.06929889\n",
      "  -1.08573889 -0.25343272 -0.92578517 -1.41290735 -0.71629608 -0.01581225]]\n",
      "The error term is as follows [5.09777012]\n"
     ]
    }
   ],
   "source": [
    "#lets make our ML model\n",
    "from sklearn.svm import SVC\n",
    "linear_SVM=SVC(kernel=\"linear\",C=1.0)\n",
    "linear_SVM.fit(scaled_trainingSet,y_train)\n",
    "print(\"The accuracy of model for training set is \",linear_SVM.score(scaled_trainingSet,y_train))\n",
    "print(\"The accuracy of model for test set is \",linear_SVM.score(scaled_testSet,y_test))\n",
    "print(\"The linear Coefficients applied are as follows \",linear_SVM.coef_)\n",
    "print(\"The error term is as follows\",linear_SVM.intercept_)"
   ]
  }
 ],
 "metadata": {
  "kernelspec": {
   "display_name": "Python 3 (ipykernel)",
   "language": "python",
   "name": "python3"
  },
  "language_info": {
   "codemirror_mode": {
    "name": "ipython",
    "version": 3
   },
   "file_extension": ".py",
   "mimetype": "text/x-python",
   "name": "python",
   "nbconvert_exporter": "python",
   "pygments_lexer": "ipython3",
   "version": "3.9.13"
  }
 },
 "nbformat": 4,
 "nbformat_minor": 5
}
