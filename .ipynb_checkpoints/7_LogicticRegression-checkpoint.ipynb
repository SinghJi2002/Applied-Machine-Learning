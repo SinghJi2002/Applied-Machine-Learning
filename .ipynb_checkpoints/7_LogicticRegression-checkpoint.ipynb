{
 "cells": [
  {
   "cell_type": "markdown",
   "id": "ae2841a6",
   "metadata": {},
   "source": [
    "# Logistic Regression"
   ]
  },
  {
   "cell_type": "code",
   "execution_count": 1,
   "id": "ab2d7354",
   "metadata": {},
   "outputs": [],
   "source": [
    "#Again lets import our basic libraries which we really require here.\n",
    "import pandas as pd\n",
    "import numpy as np"
   ]
  },
  {
   "cell_type": "code",
   "execution_count": 5,
   "id": "662eb084",
   "metadata": {},
   "outputs": [],
   "source": [
    "#Now lets set up our dataset. Lets look onto the cancer dataset.\n",
    "\n",
    "#We are just loading our dataframe\n",
    "from sklearn.datasets import load_breast_cancer\n",
    "dataset=load_breast_cancer()\n",
    "#Converting our dataset into dataframe\n",
    "dataframeCancer=pd.DataFrame(dataset[\"data\"],columns=dataset[\"feature_names\"])\n",
    "dataframeCancer[\"Classification\"]=dataset[\"target\"]\n",
    "#Preparing test and training datasets\n",
    "from sklearn.model_selection import train_test_split\n",
    "inputFeatures=dataframeCancer[dataset['feature_names']]\n",
    "outputlabel=dataframeCancer[\"Classification\"]\n",
    "x_test,x_train,y_test,y_train=train_test_split(inputFeatures,outputlabel,random_state=0)\n",
    "#Lets apply normalisation on our dataset\n",
    "from sklearn.preprocessing import MinMaxScaler\n",
    "scalarObject=MinMaxScaler()\n",
    "scaled_testSet=scalarObject.fit_transform(x_test)\n",
    "scaled_trainingSet=scalarObject.transform(x_train)"
   ]
  },
  {
   "cell_type": "code",
   "execution_count": 11,
   "id": "97f901de",
   "metadata": {},
   "outputs": [
    {
     "name": "stdout",
     "output_type": "stream",
     "text": [
      "The accuracy of model for training set is  1.0\n",
      "The accuracy of model for test set is  0.9671361502347418\n",
      "The linear Coefficients applied are as follows  [[ -8.42191574  -0.02053234  -7.76495914  -7.38789235  -1.22493446\n",
      "    6.31510265 -11.31013199 -12.48930131  13.64264559   4.27862409\n",
      "   -4.53689525   0.12269929  -4.2410713   -3.85867756  -2.46918599\n",
      "    4.04552206  -0.59451762   6.9699513    0.03650896   3.83676441\n",
      "  -15.98358683 -19.19113726 -13.87024754 -11.88517622 -18.88450628\n",
      "    0.42596569 -10.42571006  -3.94526184  -8.46075136   1.96439585]]\n",
      "The error term is as follows [36.36226578]\n"
     ]
    }
   ],
   "source": [
    "#Now lets set up our ML model.\n",
    "from sklearn.linear_model import LogisticRegression\n",
    "LR=LogisticRegression(C=1000)\n",
    "LR.fit(scaled_trainingSet,y_train)\n",
    "print(\"The accuracy of model for training set is \",LR.score(scaled_trainingSet,y_train))\n",
    "print(\"The accuracy of model for test set is \",LR.score(scaled_testSet,y_test))\n",
    "print(\"The linear Coefficients applied are as follows \",LR.coef_)\n",
    "print(\"The error term is as follows\",LR.intercept_)"
   ]
  }
 ],
 "metadata": {
  "kernelspec": {
   "display_name": "Python 3 (ipykernel)",
   "language": "python",
   "name": "python3"
  },
  "language_info": {
   "codemirror_mode": {
    "name": "ipython",
    "version": 3
   },
   "file_extension": ".py",
   "mimetype": "text/x-python",
   "name": "python",
   "nbconvert_exporter": "python",
   "pygments_lexer": "ipython3",
   "version": "3.9.13"
  }
 },
 "nbformat": 4,
 "nbformat_minor": 5
}
