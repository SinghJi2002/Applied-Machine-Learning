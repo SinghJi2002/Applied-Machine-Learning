{
 "cells": [
  {
   "cell_type": "markdown",
   "id": "51fba56f",
   "metadata": {},
   "source": [
    "# Lasso Regression"
   ]
  },
  {
   "cell_type": "code",
   "execution_count": 1,
   "id": "03e3b37a",
   "metadata": {},
   "outputs": [],
   "source": [
    "#Lets first import all our neccessary libraries\n",
    "import pandas as pd\n",
    "import numpy as np"
   ]
  },
  {
   "cell_type": "code",
   "execution_count": 2,
   "id": "c624bb04",
   "metadata": {},
   "outputs": [
    {
     "name": "stderr",
     "output_type": "stream",
     "text": [
      "C:\\Users\\ashut\\anaconda3\\lib\\site-packages\\sklearn\\utils\\deprecation.py:87: FutureWarning: Function load_boston is deprecated; `load_boston` is deprecated in 1.0 and will be removed in 1.2.\n",
      "\n",
      "    The Boston housing prices dataset has an ethical problem. You can refer to\n",
      "    the documentation of this function for further details.\n",
      "\n",
      "    The scikit-learn maintainers therefore strongly discourage the use of this\n",
      "    dataset unless the purpose of the code is to study and educate about\n",
      "    ethical issues in data science and machine learning.\n",
      "\n",
      "    In this special case, you can fetch the dataset from the original\n",
      "    source::\n",
      "\n",
      "        import pandas as pd\n",
      "        import numpy as np\n",
      "\n",
      "\n",
      "        data_url = \"http://lib.stat.cmu.edu/datasets/boston\"\n",
      "        raw_df = pd.read_csv(data_url, sep=\"\\s+\", skiprows=22, header=None)\n",
      "        data = np.hstack([raw_df.values[::2, :], raw_df.values[1::2, :2]])\n",
      "        target = raw_df.values[1::2, 2]\n",
      "\n",
      "    Alternative datasets include the California housing dataset (i.e.\n",
      "    :func:`~sklearn.datasets.fetch_california_housing`) and the Ames housing\n",
      "    dataset. You can load the datasets as follows::\n",
      "\n",
      "        from sklearn.datasets import fetch_california_housing\n",
      "        housing = fetch_california_housing()\n",
      "\n",
      "    for the California housing dataset and::\n",
      "\n",
      "        from sklearn.datasets import fetch_openml\n",
      "        housing = fetch_openml(name=\"house_prices\", as_frame=True)\n",
      "\n",
      "    for the Ames housing dataset.\n",
      "    \n",
      "  warnings.warn(msg, category=FutureWarning)\n"
     ]
    }
   ],
   "source": [
    "#Let ready our dataset.\n",
    "from sklearn.datasets import load_boston\n",
    "boston=load_boston()\n",
    "\n",
    "#lets make dataframe\n",
    "dataframe=pd.DataFrame(boston[\"data\"],columns=boston[\"feature_names\"])\n",
    "\n",
    "#Lets add solution data into orignal dataset\n",
    "dataframe[\"Target\"]=boston[\"target\"]\n",
    "\n",
    "#Lets view our dataset\n",
    "dataframe.head()\n",
    "\n",
    "#Lets prepare our input features.\n",
    "inputDataset=dataframe[boston[\"feature_names\"]]\n",
    "targetDataset=dataframe[\"Target\"]\n",
    "\n",
    "#Lets bifercate our data into training and test states.\n",
    "from sklearn.model_selection import train_test_split\n",
    "x_train,x_test,y_train,y_test=train_test_split(inputDataset,targetDataset,random_state=0)\n",
    "\n",
    "#Lets normalise our dataset\n",
    "from sklearn.preprocessing import MinMaxScaler\n",
    "scalingObject=MinMaxScaler()\n",
    "\n",
    "x_train_scaled=scalingObject.fit_transform(x_train)\n",
    "x_test_scaled=scalingObject.transform(x_test)"
   ]
  },
  {
   "cell_type": "code",
   "execution_count": 3,
   "id": "40eb8ad7",
   "metadata": {},
   "outputs": [
    {
     "name": "stdout",
     "output_type": "stream",
     "text": [
      "The accuracy of training model is  -0.001119359203955339\n",
      "The values of the coefficient(Ws) is  [-0.  0. -0.  0. -0.  0. -0.  0. -0. -0. -0.  0. -0.]\n",
      "The value of intercept(b) is  22.608707124010557\n"
     ]
    }
   ],
   "source": [
    "#Lets prepare our model for the process of prediction\n",
    "from sklearn.linear_model import Lasso\n",
    "lassoModel=Lasso(alpha=2.0)\n",
    "lassoModel.fit(x_train_scaled,y_train)\n",
    "print(\"The accuracy of training model is \",lassoModel.score(x_test_scaled,y_test))\n",
    "print(\"The values of the coefficient(Ws) is \",lassoModel.coef_)\n",
    "print(\"The value of intercept(b) is \",lassoModel.intercept_)"
   ]
  },
  {
   "cell_type": "code",
   "execution_count": 4,
   "id": "c2cd06cf",
   "metadata": {},
   "outputs": [
    {
     "name": "stdout",
     "output_type": "stream",
     "text": [
      "The accuracy model is  0.2433021052512373\n",
      "The accuracy model is  -0.001119359203955339\n",
      "The accuracy model is  -0.001119359203955339\n",
      "The accuracy model is  -0.001119359203955339\n"
     ]
    }
   ],
   "source": [
    "#Lets check the performance of the model for different values of alphas\n",
    "alphas=[1.0,5.0,10.0,15.0]\n",
    "for i in range(0,len(alphas),1):\n",
    "    Model=Lasso(alpha=alphas[i])\n",
    "    Model.fit(x_train_scaled,y_train)\n",
    "    print(\"The accuracy model is \",Model.score(x_test_scaled,y_test))"
   ]
  }
 ],
 "metadata": {
  "kernelspec": {
   "display_name": "Python 3 (ipykernel)",
   "language": "python",
   "name": "python3"
  },
  "language_info": {
   "codemirror_mode": {
    "name": "ipython",
    "version": 3
   },
   "file_extension": ".py",
   "mimetype": "text/x-python",
   "name": "python",
   "nbconvert_exporter": "python",
   "pygments_lexer": "ipython3",
   "version": "3.9.13"
  }
 },
 "nbformat": 4,
 "nbformat_minor": 5
}
